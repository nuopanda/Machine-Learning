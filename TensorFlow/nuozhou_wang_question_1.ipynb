{
 "cells": [
  {
   "cell_type": "markdown",
   "metadata": {},
   "source": [
    "# Problem 1 -- Abalone Data Set\n",
    "\n",
    "In this problem, we will build models to predict the age of an abalone using the physical features.\n",
    "\n",
    "## 1. Data loading\n",
    "The data contains a total of 4177 samples, each with 8 features (7 continuous and 1 categorical) and 1 label. The features include Sex, Length, Diameter, Height, Whole weight, Shucked weight, Viscera weight, and Shell weight. The label of data is Rings, which can be translated into age by adding 1.5 to its values.\n",
    "\n",
    "First we load data in using pandas. "
   ]
  },
  {
   "cell_type": "code",
   "execution_count": 20,
   "metadata": {},
   "outputs": [],
   "source": [
    "import pandas as pd\n",
    "dftrain = pd.read_csv(\n",
    "  'abalone.data',\n",
    "  names=['sex','length','diameter','height','whole_weight', 'shucked_weight','viscera_weight','shell_weight','rings'])"
   ]
  },
  {
   "cell_type": "markdown",
   "metadata": {},
   "source": [
    "The input data looks like this."
   ]
  },
  {
   "cell_type": "code",
   "execution_count": 21,
   "metadata": {},
   "outputs": [
    {
     "name": "stdout",
     "output_type": "stream",
     "text": [
      "  sex  length  diameter  height  whole_weight  shucked_weight  viscera_weight  \\\n",
      "0   M   0.455     0.365   0.095        0.5140          0.2245          0.1010   \n",
      "1   M   0.350     0.265   0.090        0.2255          0.0995          0.0485   \n",
      "2   F   0.530     0.420   0.135        0.6770          0.2565          0.1415   \n",
      "3   M   0.440     0.365   0.125        0.5160          0.2155          0.1140   \n",
      "4   I   0.330     0.255   0.080        0.2050          0.0895          0.0395   \n",
      "5   I   0.425     0.300   0.095        0.3515          0.1410          0.0775   \n",
      "\n",
      "   shell_weight  rings  \n",
      "0         0.150     15  \n",
      "1         0.070      7  \n",
      "2         0.210      9  \n",
      "3         0.155     10  \n",
      "4         0.055      7  \n",
      "5         0.120      8  \n"
     ]
    }
   ],
   "source": [
    "print(dftrain.head(6))"
   ]
  },
  {
   "cell_type": "markdown",
   "metadata": {},
   "source": [
    "We manually pick several features and inspect their correlation with the label. It was observed that for many features, distribution of label values tends to expand when feature values gets larger."
   ]
  },
  {
   "cell_type": "code",
   "execution_count": 22,
   "metadata": {},
   "outputs": [
    {
     "data": {
      "image/png": "[encoded data removed]",
      "text/plain": [
       "<Figure size 432x288 with 1 Axes>"
      ]
     },
     "metadata": {
      "needs_background": "light"
     },
     "output_type": "display_data"
    }
   ],
   "source": [
    "import matplotlib.pyplot as plt\n",
    "\n",
    "dflabel = dftrain.pop('rings')\n",
    "plt.plot(dftrain['whole_weight'], dflabel, \"b.\")\n",
    "plt.xlabel(\"$x_1$\", fontsize=18)\n",
    "plt.ylabel(\"$y$\", rotation=0, fontsize=18)\n",
    "plt.axis([0, 2, 0, 15])\n",
    "plt.show()"
   ]
  },
  {
   "cell_type": "markdown",
   "metadata": {},
   "source": [
    "## 2. Data preprocessing\n",
    "In this section, a series of data preprocessing are applied before feeding it into the training session.\n",
    "\n",
    "### 2.1 Encoding\n",
    "Here we start with encoding categorical values into numeric ones. There are several popular ways to encode categorical values, such as label encoding, one-hot encoding and multi-hot encoding. In this case, we apply label encoding to the categorical features, because one-hot and multi-hot encoding creates additional columns and hence increases the total size of training set."
   ]
  },
  {
   "cell_type": "code",
   "execution_count": 23,
   "metadata": {},
   "outputs": [],
   "source": [
    "from sklearn import preprocessing\n",
    "\n",
    "dftrain['sex'] = preprocessing.LabelEncoder().fit_transform(dftrain['sex'])"
   ]
  },
  {
   "cell_type": "markdown",
   "metadata": {},
   "source": [
    "### 2.2 Shuffling\n",
    "We then shuffle the data set and pop out the label. Please be noted that generalization of data is not carried out during data preprocessing, as Sci-kit learn already provides a handy option of doing so at the training session."
   ]
  },
  {
   "cell_type": "code",
   "execution_count": 24,
   "metadata": {},
   "outputs": [],
   "source": [
    "from sklearn.utils import shuffle\n",
    "\n",
    "dftrain = shuffle(dftrain, random_state=8)\n"
   ]
  },
  {
   "cell_type": "markdown",
   "metadata": {},
   "source": [
    "The features are now:"
   ]
  },
  {
   "cell_type": "code",
   "execution_count": 25,
   "metadata": {},
   "outputs": [
    {
     "name": "stdout",
     "output_type": "stream",
     "text": [
      "      sex  length  diameter  height  whole_weight  shucked_weight  \\\n",
      "2123    0   0.290     0.210   0.075        0.2750          0.1130   \n",
      "3669    1   0.585     0.460   0.140        0.7635          0.3260   \n",
      "2218    2   0.495     0.390   0.150        0.8530          0.3285   \n",
      "2434    1   0.635     0.500   0.180        1.3190          0.5485   \n",
      "3599    2   0.735     0.555   0.220        2.3330          1.2395   \n",
      "\n",
      "      viscera_weight  shell_weight  \n",
      "2123          0.0675        0.0350  \n",
      "3669          0.1530        0.2650  \n",
      "2218          0.1890        0.2700  \n",
      "2434          0.2920        0.4900  \n",
      "3599          0.3645        0.6195  \n"
     ]
    }
   ],
   "source": [
    "print(dftrain.head(5))"
   ]
  },
  {
   "cell_type": "markdown",
   "metadata": {},
   "source": [
    "And the label:"
   ]
  },
  {
   "cell_type": "code",
   "execution_count": 26,
   "metadata": {},
   "outputs": [
    {
     "name": "stdout",
     "output_type": "stream",
     "text": [
      "0    15\n",
      "1     7\n",
      "2     9\n",
      "3    10\n",
      "4     7\n",
      "Name: rings, dtype: int64\n"
     ]
    }
   ],
   "source": [
    "print(dflabel.head(5))"
   ]
  },
  {
   "cell_type": "markdown",
   "metadata": {},
   "source": [
    "### 2.3 Data split\n",
    "Now we split the data into train and test sets. Please be noted that we picked 80% as train set and 20% as the test."
   ]
  },
  {
   "cell_type": "code",
   "execution_count": 27,
   "metadata": {},
   "outputs": [],
   "source": [
    "from sklearn.model_selection import train_test_split\n",
    "\n",
    "x_train, x_test, y_train, y_test = train_test_split(dftrain, dflabel, test_size=0.2, random_state=42)"
   ]
  },
  {
   "cell_type": "markdown",
   "metadata": {},
   "source": [
    "## 3. Model Training: a regression problem\n",
    "\n",
    "### 3.1 Linear regression\n",
    "We first trained a model using a linear regressor from Sci-kit Learn with all default parameters, as the benchmark. As we've mentioned earlier, training data is normalized during this session (\"normalize=True\")."
   ]
  },
  {
   "cell_type": "code",
   "execution_count": 28,
   "metadata": {},
   "outputs": [
    {
     "data": {
      "text/plain": [
       "LinearRegression(copy_X=True, fit_intercept=True, n_jobs=None, normalize=True)"
      ]
     },
     "execution_count": 28,
     "metadata": {},
     "output_type": "execute_result"
    }
   ],
   "source": [
    "from sklearn.linear_model import LinearRegression\n",
    "\n",
    "linear_reg = LinearRegression(normalize=True)\n",
    "linear_reg.fit(x_train, y_train)"
   ]
  },
  {
   "cell_type": "markdown",
   "metadata": {},
   "source": [
    "The results are:"
   ]
  },
  {
   "cell_type": "code",
   "execution_count": 29,
   "metadata": {},
   "outputs": [
    {
     "name": "stdout",
     "output_type": "stream",
     "text": [
      "Mean squared error for training: 10.2523\n"
     ]
    }
   ],
   "source": [
    "from sklearn.metrics import mean_squared_error\n",
    "\n",
    "print('Mean squared error for training: %.4f' % mean_squared_error(linear_reg.predict(x_train), y_train))"
   ]
  },
  {
   "cell_type": "markdown",
   "metadata": {},
   "source": [
    "The model is then evaluated as follows."
   ]
  },
  {
   "cell_type": "code",
   "execution_count": 30,
   "metadata": {},
   "outputs": [
    {
     "name": "stdout",
     "output_type": "stream",
     "text": [
      "Mean squared error for evaluation: 10.8472\n"
     ]
    }
   ],
   "source": [
    "print('Mean squared error for evaluation: %.4f' % mean_squared_error(linear_reg.predict(x_test), y_test))"
   ]
  },
  {
   "cell_type": "markdown",
   "metadata": {},
   "source": [
    "To avoid overfitting and underfitting, a cross-validation approach is also taken. "
   ]
  },
  {
   "cell_type": "code",
   "execution_count": 31,
   "metadata": {},
   "outputs": [
    {
     "name": "stdout",
     "output_type": "stream",
     "text": [
      "Scores for negative mean squared error:  [-20.57883148  -6.53420956 -11.92627395  -8.00908461  -7.55502367]\n",
      "Accuracy: -10.92 (+/- 10.33)\n"
     ]
    }
   ],
   "source": [
    "from sklearn.model_selection import cross_val_score\n",
    "\n",
    "scores = cross_val_score(linear_reg, dftrain, dflabel, cv=5, scoring='neg_mean_squared_error')\n",
    "\n",
    "print('Scores for negative mean squared error: ', scores)\n",
    "print(\"Accuracy: %0.2f (+/- %0.2f)\" % (scores.mean(), scores.std() * 2))"
   ]
  },
  {
   "cell_type": "markdown",
   "metadata": {},
   "source": [
    "We also try a variety of other linear models using regularization like Lasso, Ridge and Elastic-net to fine-tune the model.\n",
    "\n",
    "### 3.2 Lasso (L1 reg)"
   ]
  },
  {
   "cell_type": "code",
   "execution_count": 32,
   "metadata": {},
   "outputs": [
    {
     "name": "stdout",
     "output_type": "stream",
     "text": [
      "Lasso mean squared error for training: 10.2809\n",
      "Lasso mean squared error for evaluation: 10.8328\n"
     ]
    }
   ],
   "source": [
    "from sklearn.linear_model import Lasso\n",
    "\n",
    "lasso_reg = Lasso(alpha=0.01)\n",
    "lasso_reg.fit(x_train, y_train)\n",
    "\n",
    "print('Lasso mean squared error for training: %.4f' % mean_squared_error(lasso_reg.predict(x_train), y_train))\n",
    "print('Lasso mean squared error for evaluation: %.4f' % mean_squared_error(lasso_reg.predict(x_test), y_test))"
   ]
  },
  {
   "cell_type": "markdown",
   "metadata": {},
   "source": [
    "### 3.3 Ridge (L2 reg)"
   ]
  },
  {
   "cell_type": "code",
   "execution_count": 33,
   "metadata": {},
   "outputs": [
    {
     "name": "stdout",
     "output_type": "stream",
     "text": [
      "Ridge mean squared error for training: 10.2523\n",
      "Ridge mean squared error for evaluation: 10.8470\n"
     ]
    }
   ],
   "source": [
    "from sklearn.linear_model import Ridge\n",
    "\n",
    "ridge_reg = Ridge(alpha=0.01, solver=\"cholesky\")\n",
    "ridge_reg.fit(x_train, y_train)\n",
    "\n",
    "print('Ridge mean squared error for training: %.4f' % mean_squared_error(ridge_reg.predict(x_train), y_train))\n",
    "print('Ridge mean squared error for evaluation: %.4f' % mean_squared_error(ridge_reg.predict(x_test), y_test))"
   ]
  },
  {
   "cell_type": "markdown",
   "metadata": {},
   "source": [
    "### 3.4 Elastic net (L1 and L2 reg)"
   ]
  },
  {
   "cell_type": "code",
   "execution_count": 34,
   "metadata": {
    "scrolled": true
   },
   "outputs": [
    {
     "name": "stdout",
     "output_type": "stream",
     "text": [
      "Elastic-net mean squared error for training: 10.2781\n",
      "Elastic-net mean squared error for evaluation: 10.8322\n"
     ]
    }
   ],
   "source": [
    "from sklearn.linear_model import ElasticNet\n",
    "\n",
    "elastic_net = ElasticNet(alpha=0.01, l1_ratio=0.1)\n",
    "elastic_net.fit(x_train, y_train)\n",
    "\n",
    "print('Elastic-net mean squared error for training: %.4f' % mean_squared_error(elastic_net.predict(x_train), y_train))\n",
    "print('Elastic-net mean squared error for evaluation: %.4f' % mean_squared_error(elastic_net.predict(x_test), y_test))"
   ]
  },
  {
   "cell_type": "markdown",
   "metadata": {},
   "source": [
    "## 4. Model training: a classification problem\n",
    "\n",
    "This problem can also be interpreted as a classification problem, where each age (as 'rings' + 1.5 in the data) represents a class. Hence, we can build a series of classification models to verify the quality of models.\n",
    "\n",
    "### 4.1 Logistic regression\n",
    "First we build a logistic regression model."
   ]
  },
  {
   "cell_type": "code",
   "execution_count": 35,
   "metadata": {},
   "outputs": [
    {
     "name": "stdout",
     "output_type": "stream",
     "text": [
      "Logistic reg mean squared error for training: 10.8710\n",
      "Logistic reg mean squared error for evaluation: 11.3577\n",
      "Logistic reg score: 0.1675\n"
     ]
    }
   ],
   "source": [
    "from sklearn.linear_model import LogisticRegression\n",
    "\n",
    "logistic_reg = LogisticRegression(max_iter=500, penalty='l2', multi_class='multinomial', solver='lbfgs')\n",
    "logistic_reg.fit(x_train, y_train)\n",
    "\n",
    "print('Logistic reg mean squared error for training: %.4f' % mean_squared_error(logistic_reg.predict(x_train), y_train))\n",
    "print('Logistic reg mean squared error for evaluation: %.4f' % mean_squared_error(logistic_reg.predict(x_test), y_test))\n",
    "\n",
    "score = logistic_reg.score(x_test, y_test)\n",
    "print('Logistic reg score: %.4f' % score)"
   ]
  },
  {
   "cell_type": "markdown",
   "metadata": {},
   "source": [
    "Similar as before, we also run a cross-validation against this too. Also noted that due to the nature of multi-class job, we here prefer accuracy over f1_score, as the former is more self-representative when number of class if not intuitively known.\n",
    "\n",
    "Also, Sci-kit Learn would throw warnings when data set only contains a target/class with only one sample. Because we don't want to alter or drop any sample from data, we will just mute the warnings for now."
   ]
  },
  {
   "cell_type": "code",
   "execution_count": 36,
   "metadata": {
    "scrolled": true
   },
   "outputs": [
    {
     "name": "stdout",
     "output_type": "stream",
     "text": [
      "Scores for accuracy:  [0.16352941 0.15576694 0.14885954 0.16646562 0.14927184]\n",
      "Accuracy: 0.16 (+/- 0.01)\n"
     ]
    }
   ],
   "source": [
    "import warnings\n",
    "warnings.filterwarnings('ignore')\n",
    "\n",
    "from sklearn.model_selection import cross_val_score\n",
    "\n",
    "scores = cross_val_score(logistic_reg, dftrain, dflabel, cv=5, scoring='accuracy')\n",
    "\n",
    "print('Scores for accuracy: ', scores)\n",
    "print(\"Accuracy: %0.2f (+/- %0.2f)\" % (scores.mean(), scores.std() * 2))"
   ]
  },
  {
   "cell_type": "markdown",
   "metadata": {},
   "source": [
    "After several times of attempt by tuning the parameters, including l1_reg, l2_reg, number of iterations and multi-class approaches, the score still seemed disappointing. It is possible that age of abalones doesn't have a linear relationship against the input features. Therefore, a non-linear model, like a tree, may be a better solution of this problem.\n",
    "\n",
    "### 4.2 Gradient boosted tree\n",
    "Gradient boosting ensembles weak prediction models, typically decision trees, in producing high-quality models."
   ]
  },
  {
   "cell_type": "code",
   "execution_count": 37,
   "metadata": {},
   "outputs": [
    {
     "name": "stdout",
     "output_type": "stream",
     "text": [
      "Gradient boosted tree mean squared error for training: 0.0431\n",
      "Gradient boosted tree mean squared error for evaluation: 17.8469\n"
     ]
    }
   ],
   "source": [
    "from sklearn import ensemble\n",
    "\n",
    "params = {'n_estimators':300, 'max_depth':5, 'learning_rate':0.1, 'loss':'deviance'}\n",
    "gbtree_classifier = ensemble.GradientBoostingClassifier(**params)\n",
    "gbtree_classifier.fit(x_train, y_train)\n",
    "print('Gradient boosted tree mean squared error for training: %.4f'\n",
    "      % mean_squared_error(gbtree_classifier.predict(x_train), y_train))\n",
    "print('Gradient boosted tree mean squared error for evaluation: %.4f'\n",
    "      % mean_squared_error(gbtree_classifier.predict(x_test), y_test))\n"
   ]
  },
  {
   "cell_type": "markdown",
   "metadata": {},
   "source": [
    "Cross-validation is applied to this model too. Please be aware that MSE for training is 0! To reduce overfitting, we will take several actions as mentioned in the last part."
   ]
  },
  {
   "cell_type": "code",
   "execution_count": 38,
   "metadata": {},
   "outputs": [
    {
     "name": "stdout",
     "output_type": "stream",
     "text": [
      "Scores for accuracy:  [0.12588235 0.12366231 0.11284514 0.13510253 0.12621359]\n",
      "Accuracy: 0.12 (+/- 0.01)\n"
     ]
    }
   ],
   "source": [
    "import warnings\n",
    "warnings.filterwarnings('ignore')\n",
    "\n",
    "from sklearn.model_selection import cross_val_score\n",
    "\n",
    "scores = cross_val_score(gbtree_classifier, dftrain, dflabel, cv=5, scoring='accuracy')\n",
    "\n",
    "print('Scores for accuracy: ', scores)\n",
    "print(\"Accuracy: %0.2f (+/- %0.2f)\" % (scores.mean(), scores.std() * 2))"
   ]
  },
  {
   "cell_type": "markdown",
   "metadata": {},
   "source": [
    "Gradient boosted trees can easily get into overfitting issues. The example above shows one case of overfiting. To reduce overfitting, a number of actions have been taken, which included:\n",
    "\n",
    "1. Smaller learning rate.\n",
    "2. Stochastic gradient boosting (with subsample < 1).\n",
    "3. Minimize tree depth.\n",
    "4. Use of regularization.\n",
    "\n",
    "In the end, the optimal parameters were found as follows."
   ]
  },
  {
   "cell_type": "code",
   "execution_count": 39,
   "metadata": {},
   "outputs": [
    {
     "name": "stdout",
     "output_type": "stream",
     "text": [
      "Gradient boosted tree mean squared error for training: 8.7953\n",
      "Gradient boosted tree mean squared error for evaluation: 11.7117\n"
     ]
    }
   ],
   "source": [
    "params = {'n_estimators':500, 'subsample':0.5, 'max_depth':2, 'learning_rate':0.01, 'max_features':2, 'loss':'deviance'}\n",
    "gbtree_classifier = ensemble.GradientBoostingClassifier(**params)\n",
    "gbtree_classifier.fit(x_train, y_train)\n",
    "\n",
    "print('Gradient boosted tree mean squared error for training: %.4f'\n",
    "      % mean_squared_error(gbtree_classifier.predict(x_train), y_train))\n",
    "print('Gradient boosted tree mean squared error for evaluation: %.4f'\n",
    "      % mean_squared_error(gbtree_classifier.predict(x_test), y_test))"
   ]
  },
  {
   "cell_type": "code",
   "execution_count": 40,
   "metadata": {},
   "outputs": [
    {
     "name": "stdout",
     "output_type": "stream",
     "text": [
      "Scores for accuracy:  [0.16470588 0.15219976 0.18127251 0.17852835 0.14927184]\n",
      "Accuracy: 0.17 (+/- 0.03)\n"
     ]
    }
   ],
   "source": [
    "scores = cross_val_score(gbtree_classifier, dftrain, dflabel, cv=5, scoring='accuracy')\n",
    "\n",
    "print('Scores for accuracy: ', scores)\n",
    "print(\"Accuracy: %0.2f (+/- %0.2f)\" % (scores.mean(), scores.std() * 2))"
   ]
  }
 ],
 "metadata": {
  "kernelspec": {
   "display_name": "Python 3",
   "language": "python",
   "name": "python3"
  },
  "language_info": {
   "codemirror_mode": {
    "name": "ipython",
    "version": 3
   },
   "file_extension": ".py",
   "mimetype": "text/x-python",
   "name": "python",
   "nbconvert_exporter": "python",
   "pygments_lexer": "ipython3",
   "version": "3.7.4"
  }
 },
 "nbformat": 4,
 "nbformat_minor": 2
}
