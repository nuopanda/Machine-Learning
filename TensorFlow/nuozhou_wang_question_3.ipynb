{
 "cells": [
  {
   "cell_type": "markdown",
   "metadata": {},
   "source": [
    "# Problem 3 -- Boston Data Set\n",
    "\n",
    "In this problem, we will build models to predict whether it's going to rain tomorrow.\n",
    "\n",
    "## 1. Data loading\n",
    "The first line of the CSV file is the head, which is removed when loading."
   ]
  },
  {
   "cell_type": "code",
   "execution_count": 1,
   "metadata": {},
   "outputs": [],
   "source": [
    "import pandas as pd\n",
    "\n",
    "dftrain = pd.read_csv(\n",
    "  'boston_data.csv',\n",
    "  header=1,\n",
    "  names=['CRIM','ZN','INDUS','CHAS','NOX','RM','AGE','DIS','RAD','TAX','PTRATIO','B','LSTAT','MEDV'])"
   ]
  },
  {
   "cell_type": "markdown",
   "metadata": {},
   "source": [
    "Now the data looks like this."
   ]
  },
  {
   "cell_type": "code",
   "execution_count": 2,
   "metadata": {},
   "outputs": [
    {
     "name": "stdout",
     "output_type": "stream",
     "text": [
      "      CRIM   ZN  INDUS  CHAS    NOX     RM   AGE     DIS  RAD    TAX  PTRATIO  \\\n",
      "0  0.02731  0.0   7.07     0  0.469  6.421  78.9  4.9671    2  242.0     17.8   \n",
      "1  0.02729  0.0   7.07     0  0.469  7.185  61.1  4.9671    2  242.0     17.8   \n",
      "2  0.03237  0.0   2.18     0  0.458  6.998  45.8  6.0622    3  222.0     18.7   \n",
      "3  0.06905  0.0   2.18     0  0.458  7.147  54.2  6.0622    3  222.0     18.7   \n",
      "4  0.02985  0.0   2.18     0  0.458  6.430  58.7  6.0622    3  222.0     18.7   \n",
      "\n",
      "        B  LSTAT  MEDV  \n",
      "0  396.90   9.14  21.6  \n",
      "1  392.83   4.03  34.7  \n",
      "2  394.63   2.94  33.4  \n",
      "3  396.90   5.33  36.2  \n",
      "4  394.12   5.21  28.7  \n"
     ]
    }
   ],
   "source": [
    "print(dftrain.head(5))"
   ]
  },
  {
   "cell_type": "markdown",
   "metadata": {},
   "source": [
    "## 2. Data preprocessing\n",
    "\n",
    "Since we're predicting two columns, preprocessing here only contains shuffling. Splitting and label popping are kept as a per-model basis."
   ]
  },
  {
   "cell_type": "code",
   "execution_count": 3,
   "metadata": {},
   "outputs": [],
   "source": [
    "from sklearn.utils import shuffle\n",
    "dftrain = shuffle(dftrain, random_state=8)"
   ]
  },
  {
   "cell_type": "markdown",
   "metadata": {},
   "source": [
    "## 3. Model training: regression against NOX\n",
    "\n",
    "First we pop and split the data."
   ]
  },
  {
   "cell_type": "code",
   "execution_count": 4,
   "metadata": {},
   "outputs": [
    {
     "name": "stdout",
     "output_type": "stream",
     "text": [
      "Trainig features are:\n",
      "          CRIM    ZN  INDUS  CHAS     RM   AGE     DIS  RAD    TAX  PTRATIO  \\\n",
      "272   0.22188  20.0   6.96     1  7.691  51.8  4.3665    3  223.0     18.6   \n",
      "391  11.57790   0.0  18.10     0  5.036  97.0  1.7700   24  666.0     20.2   \n",
      "308   0.34940   0.0   9.90     0  5.972  76.7  3.1025    4  304.0     18.4   \n",
      "\n",
      "          B  LSTAT  MEDV  \n",
      "272  390.77   6.58  35.2  \n",
      "391  396.90  25.68   9.7  \n",
      "308  396.24   9.97  20.3  \n",
      "Training labels are:\n",
      " 272    0.464\n",
      "391    0.700\n",
      "308    0.544\n",
      "Name: NOX, dtype: float64\n"
     ]
    }
   ],
   "source": [
    "from sklearn.model_selection import train_test_split\n",
    "\n",
    "dflabel = dftrain.pop('NOX')\n",
    "\n",
    "x_train, x_test, y_train, y_test = train_test_split(dftrain, dflabel, test_size=0.2, random_state=42)\n",
    "\n",
    "print('Trainig features are:\\n', x_train.head(3))\n",
    "\n",
    "print('Training labels are:\\n', y_train.head(3))"
   ]
  },
  {
   "cell_type": "markdown",
   "metadata": {},
   "source": [
    "### 3.1. Linear regression"
   ]
  },
  {
   "cell_type": "code",
   "execution_count": 5,
   "metadata": {},
   "outputs": [
    {
     "name": "stdout",
     "output_type": "stream",
     "text": [
      "Linear reg mean squared error for train: 0.0030\n",
      "Linear reg mean squared error for test: 0.0026\n"
     ]
    }
   ],
   "source": [
    "from sklearn.linear_model import LinearRegression\n",
    "from sklearn.metrics import mean_squared_error\n",
    "\n",
    "linear_reg = LinearRegression(normalize=True)\n",
    "linear_reg.fit(x_train, y_train)\n",
    "\n",
    "print('Linear reg mean squared error for train: %.4f' % mean_squared_error(linear_reg.predict(x_train), y_train))\n",
    "print('Linear reg mean squared error for test: %.4f' % mean_squared_error(linear_reg.predict(x_test), y_test))"
   ]
  },
  {
   "cell_type": "markdown",
   "metadata": {},
   "source": [
    "Cross-validation."
   ]
  },
  {
   "cell_type": "code",
   "execution_count": 6,
   "metadata": {},
   "outputs": [
    {
     "name": "stdout",
     "output_type": "stream",
     "text": [
      "Scores for negative mean squared error:  [-0.00320939 -0.00341716 -0.00270497 -0.00364481 -0.00300694]\n",
      "Accuracy: -0.0032 (+/- 0.0006)\n"
     ]
    }
   ],
   "source": [
    "from sklearn.model_selection import cross_val_score\n",
    "\n",
    "scores = cross_val_score(linear_reg, dftrain, dflabel, cv=5, scoring='neg_mean_squared_error')\n",
    "\n",
    "print('Scores for negative mean squared error: ', scores)\n",
    "print(\"Accuracy: %0.4f (+/- %0.4f)\" % (scores.mean(), scores.std() * 2))"
   ]
  },
  {
   "cell_type": "markdown",
   "metadata": {},
   "source": [
    "### 3.2. Lasso (L1 reg)"
   ]
  },
  {
   "cell_type": "code",
   "execution_count": 7,
   "metadata": {},
   "outputs": [
    {
     "name": "stdout",
     "output_type": "stream",
     "text": [
      "Lasso mean squared error for training: 0.0032\n",
      "Lasso mean squared error for evaluation: 0.0027\n"
     ]
    }
   ],
   "source": [
    "from sklearn.linear_model import Lasso\n",
    "\n",
    "lasso_reg = Lasso(alpha=0.01)\n",
    "lasso_reg.fit(x_train, y_train)\n",
    "\n",
    "print('Lasso mean squared error for training: %.4f' % mean_squared_error(lasso_reg.predict(x_train), y_train))\n",
    "print('Lasso mean squared error for evaluation: %.4f' % mean_squared_error(lasso_reg.predict(x_test), y_test))"
   ]
  },
  {
   "cell_type": "markdown",
   "metadata": {},
   "source": [
    "### 3.3 Ridge (L2 reg)"
   ]
  },
  {
   "cell_type": "code",
   "execution_count": 8,
   "metadata": {},
   "outputs": [
    {
     "name": "stdout",
     "output_type": "stream",
     "text": [
      "Ridge mean squared error for training: 0.0030\n",
      "Ridge mean squared error for evaluation: 0.0026\n"
     ]
    }
   ],
   "source": [
    "from sklearn.linear_model import Ridge\n",
    "\n",
    "ridge_reg = Ridge(alpha=0.01, solver=\"cholesky\")\n",
    "ridge_reg.fit(x_train, y_train)\n",
    "\n",
    "print('Ridge mean squared error for training: %.4f' % mean_squared_error(ridge_reg.predict(x_train), y_train))\n",
    "print('Ridge mean squared error for evaluation: %.4f' % mean_squared_error(ridge_reg.predict(x_test), y_test))"
   ]
  },
  {
   "cell_type": "markdown",
   "metadata": {},
   "source": [
    "### 3.4 Elastic net (L1 and L2 reg)"
   ]
  },
  {
   "cell_type": "code",
   "execution_count": 9,
   "metadata": {},
   "outputs": [
    {
     "name": "stdout",
     "output_type": "stream",
     "text": [
      "Elastic-net mean squared error for training: 0.0030\n",
      "Elastic-net mean squared error for evaluation: 0.0026\n"
     ]
    }
   ],
   "source": [
    "from sklearn.linear_model import ElasticNet\n",
    "\n",
    "elastic_net = ElasticNet(alpha=0.01, l1_ratio=0.1)\n",
    "elastic_net.fit(x_train, y_train)\n",
    "\n",
    "print('Elastic-net mean squared error for training: %.4f' % mean_squared_error(elastic_net.predict(x_train), y_train))\n",
    "print('Elastic-net mean squared error for evaluation: %.4f' % mean_squared_error(elastic_net.predict(x_test), y_test))"
   ]
  },
  {
   "cell_type": "markdown",
   "metadata": {},
   "source": [
    "### 3.5. Gradient boosted tree regressor"
   ]
  },
  {
   "cell_type": "code",
   "execution_count": 10,
   "metadata": {},
   "outputs": [
    {
     "name": "stdout",
     "output_type": "stream",
     "text": [
      "Gradient boosted tree reg mean squared error for train: 0.0001\n",
      "Gradient boosted tree reg mean squared error for test: 0.0008\n"
     ]
    }
   ],
   "source": [
    "from sklearn import ensemble\n",
    "\n",
    "params = {'n_estimators': 500, 'max_depth': 5, 'min_samples_split': 4, 'learning_rate': 0.01, 'loss': 'ls'}\n",
    "gbtree_reg = ensemble.GradientBoostingRegressor(**params)\n",
    "gbtree_reg.fit(x_train, y_train)\n",
    "\n",
    "print('Gradient boosted tree reg mean squared error for train: %.4f' % mean_squared_error(gbtree_reg.predict(x_train), y_train))\n",
    "print('Gradient boosted tree reg mean squared error for test: %.4f' % mean_squared_error(gbtree_reg.predict(x_test), y_test))\n"
   ]
  },
  {
   "cell_type": "markdown",
   "metadata": {},
   "source": [
    "Cross validation also verifies that results are consistent across runs."
   ]
  },
  {
   "cell_type": "code",
   "execution_count": 11,
   "metadata": {},
   "outputs": [
    {
     "name": "stdout",
     "output_type": "stream",
     "text": [
      "Scores for accuracy:  [-0.00122487 -0.00132428 -0.00093174 -0.00131197 -0.00095223]\n",
      "Accuracy: -0.0011 (+/- 0.0003)\n"
     ]
    }
   ],
   "source": [
    "import warnings\n",
    "warnings.filterwarnings('ignore')\n",
    "from sklearn.model_selection import cross_val_score\n",
    "\n",
    "scores = cross_val_score(gbtree_reg, dftrain, dflabel, cv=5, scoring='neg_mean_squared_error')\n",
    "\n",
    "print('Scores for accuracy: ', scores)\n",
    "print(\"Accuracy: %0.4f (+/- %0.4f)\" % (scores.mean(), scores.std() * 2))"
   ]
  },
  {
   "cell_type": "markdown",
   "metadata": {},
   "source": [
    "As a result, we found that the gradient boosted tree model was able to generate a better prediction too.\n",
    "\n",
    "## 4. Model training: regression against MEDV\n",
    "Again, we need to pop and split the data."
   ]
  },
  {
   "cell_type": "code",
   "execution_count": 12,
   "metadata": {},
   "outputs": [
    {
     "name": "stdout",
     "output_type": "stream",
     "text": [
      "Trainig features are:\n",
      "          CRIM    ZN  INDUS  CHAS    NOX     RM   AGE     DIS  RAD    TAX  \\\n",
      "272   0.22188  20.0   6.96     1  0.464  7.691  51.8  4.3665    3  223.0   \n",
      "391  11.57790   0.0  18.10     0  0.700  5.036  97.0  1.7700   24  666.0   \n",
      "308   0.34940   0.0   9.90     0  0.544  5.972  76.7  3.1025    4  304.0   \n",
      "\n",
      "     PTRATIO       B  LSTAT  \n",
      "272     18.6  390.77   6.58  \n",
      "391     20.2  396.90  25.68  \n",
      "308     18.4  396.24   9.97  \n",
      "Training labels are:\n",
      " 272    35.2\n",
      "391     9.7\n",
      "308    20.3\n",
      "Name: MEDV, dtype: float64\n"
     ]
    }
   ],
   "source": [
    "dftrain = pd.read_csv(\n",
    "  'boston_data.csv',\n",
    "  header=1,\n",
    "  names=['CRIM','ZN','INDUS','CHAS','NOX','RM','AGE','DIS','RAD','TAX','PTRATIO','B','LSTAT','MEDV'])\n",
    "dftrain = shuffle(dftrain, random_state=8)\n",
    "dflabel = dftrain.pop('MEDV')\n",
    "\n",
    "x_train, x_test, y_train, y_test = train_test_split(dftrain, dflabel, test_size=0.2, random_state=42)\n",
    "\n",
    "print('Trainig features are:\\n', x_train.head(3))\n",
    "print('Training labels are:\\n', y_train.head(3))"
   ]
  },
  {
   "cell_type": "markdown",
   "metadata": {},
   "source": [
    "### 4.1. Linear regression"
   ]
  },
  {
   "cell_type": "code",
   "execution_count": 13,
   "metadata": {},
   "outputs": [
    {
     "name": "stdout",
     "output_type": "stream",
     "text": [
      "Linear reg mean squared error for train: 22.2100\n",
      "Linear reg mean squared error for test: 21.2507\n"
     ]
    }
   ],
   "source": [
    "linear_reg = LinearRegression(normalize=True)\n",
    "linear_reg.fit(x_train, y_train)\n",
    "\n",
    "print('Linear reg mean squared error for train: %.4f' % mean_squared_error(linear_reg.predict(x_train), y_train))\n",
    "print('Linear reg mean squared error for test: %.4f' % mean_squared_error(linear_reg.predict(x_test), y_test))"
   ]
  },
  {
   "cell_type": "markdown",
   "metadata": {},
   "source": [
    "### 4.2. Lasso (L1 reg)"
   ]
  },
  {
   "cell_type": "code",
   "execution_count": 14,
   "metadata": {},
   "outputs": [
    {
     "name": "stdout",
     "output_type": "stream",
     "text": [
      "Lasso mean squared error for training: 22.2456\n",
      "Lasso mean squared error for evaluation: 21.5944\n"
     ]
    }
   ],
   "source": [
    "from sklearn.linear_model import Lasso\n",
    "\n",
    "lasso_reg = Lasso(alpha=0.01)\n",
    "lasso_reg.fit(x_train, y_train)\n",
    "\n",
    "print('Lasso mean squared error for training: %.4f' % mean_squared_error(lasso_reg.predict(x_train), y_train))\n",
    "print('Lasso mean squared error for evaluation: %.4f' % mean_squared_error(lasso_reg.predict(x_test), y_test))"
   ]
  },
  {
   "cell_type": "markdown",
   "metadata": {},
   "source": [
    "### 4.3 Ridge (L2 reg)"
   ]
  },
  {
   "cell_type": "code",
   "execution_count": 15,
   "metadata": {},
   "outputs": [
    {
     "name": "stdout",
     "output_type": "stream",
     "text": [
      "Ridge mean squared error for training: 22.2100\n",
      "Ridge mean squared error for evaluation: 21.2597\n"
     ]
    }
   ],
   "source": [
    "ridge_reg = Ridge(alpha=0.01, solver=\"cholesky\")\n",
    "ridge_reg.fit(x_train, y_train)\n",
    "\n",
    "print('Ridge mean squared error for training: %.4f' % mean_squared_error(ridge_reg.predict(x_train), y_train))\n",
    "print('Ridge mean squared error for evaluation: %.4f' % mean_squared_error(ridge_reg.predict(x_test), y_test))"
   ]
  },
  {
   "cell_type": "markdown",
   "metadata": {},
   "source": [
    "### 4.4 Elastic net (L1 and L2 reg)"
   ]
  },
  {
   "cell_type": "code",
   "execution_count": 16,
   "metadata": {},
   "outputs": [
    {
     "name": "stdout",
     "output_type": "stream",
     "text": [
      "Elastic-net mean squared error for training: 22.6320\n",
      "Elastic-net mean squared error for evaluation: 22.4864\n"
     ]
    }
   ],
   "source": [
    "elastic_net = ElasticNet(alpha=0.01, l1_ratio=0.1)\n",
    "elastic_net.fit(x_train, y_train)\n",
    "\n",
    "print('Elastic-net mean squared error for training: %.4f' % mean_squared_error(elastic_net.predict(x_train), y_train))\n",
    "print('Elastic-net mean squared error for evaluation: %.4f' % mean_squared_error(elastic_net.predict(x_test), y_test))"
   ]
  },
  {
   "cell_type": "markdown",
   "metadata": {},
   "source": [
    "### 4.5. Gradient boosted tree regressor"
   ]
  },
  {
   "cell_type": "code",
   "execution_count": 17,
   "metadata": {},
   "outputs": [
    {
     "name": "stdout",
     "output_type": "stream",
     "text": [
      "Gradient boosted tree reg mean squared error for train: 0.7233\n",
      "Gradient boosted tree reg mean squared error for test: 8.9893\n"
     ]
    }
   ],
   "source": [
    "from sklearn import ensemble\n",
    "\n",
    "params = {'n_estimators': 500, 'max_depth': 5, 'min_samples_split': 4, 'learning_rate': 0.01, 'loss': 'ls'}\n",
    "gbtree_reg = ensemble.GradientBoostingRegressor(**params)\n",
    "gbtree_reg.fit(x_train, y_train)\n",
    "\n",
    "print('Gradient boosted tree reg mean squared error for train: %.4f' % mean_squared_error(gbtree_reg.predict(x_train), y_train))\n",
    "print('Gradient boosted tree reg mean squared error for test: %.4f' % mean_squared_error(gbtree_reg.predict(x_test), y_test))"
   ]
  },
  {
   "cell_type": "markdown",
   "metadata": {},
   "source": [
    "Cross validation also verifies that results are consistent across runs."
   ]
  },
  {
   "cell_type": "code",
   "execution_count": 18,
   "metadata": {},
   "outputs": [
    {
     "name": "stdout",
     "output_type": "stream",
     "text": [
      "Scores for accuracy:  [ -6.10569118 -17.92030947  -8.30690375  -8.02371162  -9.43159699]\n",
      "Accuracy: -9.9576 (+/- 8.2454)\n"
     ]
    }
   ],
   "source": [
    "scores = cross_val_score(gbtree_reg, dftrain, dflabel, cv=5, scoring='neg_mean_squared_error')\n",
    "\n",
    "print('Scores for accuracy: ', scores)\n",
    "print(\"Accuracy: %0.4f (+/- %0.4f)\" % (scores.mean(), scores.std() * 2))"
   ]
  },
  {
   "cell_type": "markdown",
   "metadata": {},
   "source": [
    "Similar to above, we also found that gradient boosted tree model was able to produce better results against regression of the structured data."
   ]
  }
 ],
 "metadata": {
  "kernelspec": {
   "display_name": "Python 3",
   "language": "python",
   "name": "python3"
  },
  "language_info": {
   "codemirror_mode": {
    "name": "ipython",
    "version": 3
   },
   "file_extension": ".py",
   "mimetype": "text/x-python",
   "name": "python",
   "nbconvert_exporter": "python",
   "pygments_lexer": "ipython3",
   "version": "3.7.4"
  }
 },
 "nbformat": 4,
 "nbformat_minor": 2
}
