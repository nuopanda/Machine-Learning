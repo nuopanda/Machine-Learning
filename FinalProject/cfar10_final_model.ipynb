{
  "nbformat": 4,
  "nbformat_minor": 0,
  "metadata": {
    "colab": {
      "name": "cfar10_final_model.ipynb",
      "provenance": [],
      "collapsed_sections": []
    },
    "kernelspec": {
      "name": "python3",
      "display_name": "Python 3"
    },
    "accelerator": "GPU"
  },
  "cells": [
    {
      "cell_type": "markdown",
      "metadata": {
        "id": "MNxB0spPLkUm",
        "colab_type": "text"
      },
      "source": [
        "# **Final Project: Practicing Convolutional Neural Network**\n",
        "# CIFAR 10 challenge \n",
        "In this problem, we will build models to classifier with deep neural nets."
      ]
    },
    {
      "cell_type": "code",
      "metadata": {
        "id": "JZOyLh_FU8K4",
        "colab_type": "code",
        "outputId": "8a73a9aa-1371-4e31-b242-a5236b751981",
        "colab": {
          "base_uri": "https://localhost:8080/",
          "height": 890
        }
      },
      "source": [
        "!pip install -q plaidml-keras\n",
        "import keras\n",
        "\n",
        "!pip3 install torch torchvision\n",
        "!pip install livelossplot"
      ],
      "execution_count": 1,
      "outputs": [
        {
          "output_type": "stream",
          "text": [
            "\u001b[K     |████████████████████████████████| 317kB 5.1MB/s \n",
            "\u001b[K     |████████████████████████████████| 32.1MB 1.4MB/s \n",
            "\u001b[?25h"
          ],
          "name": "stdout"
        },
        {
          "output_type": "stream",
          "text": [
            "Using TensorFlow backend.\n"
          ],
          "name": "stderr"
        },
        {
          "output_type": "display_data",
          "data": {
            "text/html": [
              "<p style=\"color: red;\">\n",
              "The default version of TensorFlow in Colab will soon switch to TensorFlow 2.x.<br>\n",
              "We recommend you <a href=\"https://www.tensorflow.org/guide/migrate\" target=\"_blank\">upgrade</a> now \n",
              "or ensure your notebook will continue to use TensorFlow 1.x via the <code>%tensorflow_version 1.x</code> magic:\n",
              "<a href=\"https://colab.research.google.com/notebooks/tensorflow_version.ipynb\" target=\"_blank\">more info</a>.</p>\n"
            ],
            "text/plain": [
              "<IPython.core.display.HTML object>"
            ]
          },
          "metadata": {
            "tags": []
          }
        },
        {
          "output_type": "stream",
          "text": [
            "Requirement already satisfied: torch in /usr/local/lib/python3.6/dist-packages (1.3.1)\n",
            "Requirement already satisfied: torchvision in /usr/local/lib/python3.6/dist-packages (0.4.2)\n",
            "Requirement already satisfied: numpy in /usr/local/lib/python3.6/dist-packages (from torch) (1.17.4)\n",
            "Requirement already satisfied: pillow>=4.1.1 in /usr/local/lib/python3.6/dist-packages (from torchvision) (4.3.0)\n",
            "Requirement already satisfied: six in /usr/local/lib/python3.6/dist-packages (from torchvision) (1.12.0)\n",
            "Requirement already satisfied: olefile in /usr/local/lib/python3.6/dist-packages (from pillow>=4.1.1->torchvision) (0.46)\n",
            "Collecting livelossplot\n",
            "  Downloading https://files.pythonhosted.org/packages/8e/f6/0618c30078f9c1e4b2cd84f1ea6bb70c6615070468b75b0d934326107bcd/livelossplot-0.4.1-py3-none-any.whl\n",
            "Requirement already satisfied: matplotlib in /usr/local/lib/python3.6/dist-packages (from livelossplot) (3.1.2)\n",
            "Requirement already satisfied: notebook in /usr/local/lib/python3.6/dist-packages (from livelossplot) (5.2.2)\n",
            "Requirement already satisfied: cycler>=0.10 in /usr/local/lib/python3.6/dist-packages (from matplotlib->livelossplot) (0.10.0)\n",
            "Requirement already satisfied: numpy>=1.11 in /usr/local/lib/python3.6/dist-packages (from matplotlib->livelossplot) (1.17.4)\n",
            "Requirement already satisfied: kiwisolver>=1.0.1 in /usr/local/lib/python3.6/dist-packages (from matplotlib->livelossplot) (1.1.0)\n",
            "Requirement already satisfied: pyparsing!=2.0.4,!=2.1.2,!=2.1.6,>=2.0.1 in /usr/local/lib/python3.6/dist-packages (from matplotlib->livelossplot) (2.4.5)\n",
            "Requirement already satisfied: python-dateutil>=2.1 in /usr/local/lib/python3.6/dist-packages (from matplotlib->livelossplot) (2.6.1)\n",
            "Requirement already satisfied: jupyter-core in /usr/local/lib/python3.6/dist-packages (from notebook->livelossplot) (4.6.1)\n",
            "Requirement already satisfied: terminado>=0.3.3; sys_platform != \"win32\" in /usr/local/lib/python3.6/dist-packages (from notebook->livelossplot) (0.8.3)\n",
            "Requirement already satisfied: ipykernel in /usr/local/lib/python3.6/dist-packages (from notebook->livelossplot) (4.6.1)\n",
            "Requirement already satisfied: ipython-genutils in /usr/local/lib/python3.6/dist-packages (from notebook->livelossplot) (0.2.0)\n",
            "Requirement already satisfied: tornado>=4 in /usr/local/lib/python3.6/dist-packages (from notebook->livelossplot) (4.5.3)\n",
            "Requirement already satisfied: nbformat in /usr/local/lib/python3.6/dist-packages (from notebook->livelossplot) (4.4.0)\n",
            "Requirement already satisfied: traitlets>=4.2.1 in /usr/local/lib/python3.6/dist-packages (from notebook->livelossplot) (4.3.3)\n",
            "Requirement already satisfied: nbconvert in /usr/local/lib/python3.6/dist-packages (from notebook->livelossplot) (5.6.1)\n",
            "Requirement already satisfied: jinja2 in /usr/local/lib/python3.6/dist-packages (from notebook->livelossplot) (2.10.3)\n",
            "Requirement already satisfied: jupyter-client in /usr/local/lib/python3.6/dist-packages (from notebook->livelossplot) (5.3.4)\n",
            "Requirement already satisfied: six in /usr/local/lib/python3.6/dist-packages (from cycler>=0.10->matplotlib->livelossplot) (1.12.0)\n",
            "Requirement already satisfied: setuptools in /usr/local/lib/python3.6/dist-packages (from kiwisolver>=1.0.1->matplotlib->livelossplot) (42.0.2)\n",
            "Requirement already satisfied: ptyprocess; os_name != \"nt\" in /usr/local/lib/python3.6/dist-packages (from terminado>=0.3.3; sys_platform != \"win32\"->notebook->livelossplot) (0.6.0)\n",
            "Requirement already satisfied: ipython>=4.0.0 in /usr/local/lib/python3.6/dist-packages (from ipykernel->notebook->livelossplot) (5.5.0)\n",
            "Requirement already satisfied: jsonschema!=2.5.0,>=2.4 in /usr/local/lib/python3.6/dist-packages (from nbformat->notebook->livelossplot) (2.6.0)\n",
            "Requirement already satisfied: decorator in /usr/local/lib/python3.6/dist-packages (from traitlets>=4.2.1->notebook->livelossplot) (4.4.1)\n",
            "Requirement already satisfied: pandocfilters>=1.4.1 in /usr/local/lib/python3.6/dist-packages (from nbconvert->notebook->livelossplot) (1.4.2)\n",
            "Requirement already satisfied: bleach in /usr/local/lib/python3.6/dist-packages (from nbconvert->notebook->livelossplot) (3.1.0)\n",
            "Requirement already satisfied: entrypoints>=0.2.2 in /usr/local/lib/python3.6/dist-packages (from nbconvert->notebook->livelossplot) (0.3)\n",
            "Requirement already satisfied: mistune<2,>=0.8.1 in /usr/local/lib/python3.6/dist-packages (from nbconvert->notebook->livelossplot) (0.8.4)\n",
            "Requirement already satisfied: pygments in /usr/local/lib/python3.6/dist-packages (from nbconvert->notebook->livelossplot) (2.1.3)\n",
            "Requirement already satisfied: testpath in /usr/local/lib/python3.6/dist-packages (from nbconvert->notebook->livelossplot) (0.4.4)\n",
            "Requirement already satisfied: defusedxml in /usr/local/lib/python3.6/dist-packages (from nbconvert->notebook->livelossplot) (0.6.0)\n",
            "Requirement already satisfied: MarkupSafe>=0.23 in /usr/local/lib/python3.6/dist-packages (from jinja2->notebook->livelossplot) (1.1.1)\n",
            "Requirement already satisfied: pyzmq>=13 in /usr/local/lib/python3.6/dist-packages (from jupyter-client->notebook->livelossplot) (17.0.0)\n",
            "Requirement already satisfied: pexpect; sys_platform != \"win32\" in /usr/local/lib/python3.6/dist-packages (from ipython>=4.0.0->ipykernel->notebook->livelossplot) (4.7.0)\n",
            "Requirement already satisfied: pickleshare in /usr/local/lib/python3.6/dist-packages (from ipython>=4.0.0->ipykernel->notebook->livelossplot) (0.7.5)\n",
            "Requirement already satisfied: simplegeneric>0.8 in /usr/local/lib/python3.6/dist-packages (from ipython>=4.0.0->ipykernel->notebook->livelossplot) (0.8.1)\n",
            "Requirement already satisfied: prompt-toolkit<2.0.0,>=1.0.4 in /usr/local/lib/python3.6/dist-packages (from ipython>=4.0.0->ipykernel->notebook->livelossplot) (1.0.18)\n",
            "Requirement already satisfied: webencodings in /usr/local/lib/python3.6/dist-packages (from bleach->nbconvert->notebook->livelossplot) (0.5.1)\n",
            "Requirement already satisfied: wcwidth in /usr/local/lib/python3.6/dist-packages (from prompt-toolkit<2.0.0,>=1.0.4->ipython>=4.0.0->ipykernel->notebook->livelossplot) (0.1.7)\n",
            "Installing collected packages: livelossplot\n",
            "Successfully installed livelossplot-0.4.1\n"
          ],
          "name": "stdout"
        }
      ]
    },
    {
      "cell_type": "code",
      "metadata": {
        "id": "St4NBiakomXt",
        "colab_type": "code",
        "colab": {}
      },
      "source": [
        "import plaidml.keras\n",
        "plaidml.keras.install_backend()\n",
        "\n",
        "import keras\n",
        "from keras.models import Sequential, load_model\n",
        "from keras.layers import Dense, Dropout, Activation, Flatten\n",
        "from keras.layers import Conv2D, MaxPooling2D, Conv3D\n",
        "from keras.utils import print_summary, to_categorical\n",
        "from keras.optimizers import Adam\n",
        "from keras.regularizers import l2\n",
        "from keras import optimizers\n",
        "\n",
        "import numpy as np\n",
        "from sklearn.metrics import classification_report, confusion_matrix\n",
        "import os"
      ],
      "execution_count": 0,
      "outputs": []
    },
    {
      "cell_type": "markdown",
      "metadata": {
        "id": "UgHD8Hsao8Yu",
        "colab_type": "text"
      },
      "source": [
        "Get the permission to access google drive for dataset retrieval\n"
      ]
    },
    {
      "cell_type": "code",
      "metadata": {
        "id": "x0QqCTUVcsNy",
        "colab_type": "code",
        "outputId": "2ffc1e85-9890-4e37-c735-68bdd5e8a7f7",
        "colab": {
          "base_uri": "https://localhost:8080/",
          "height": 118
        }
      },
      "source": [
        "from google.colab import drive\n",
        "drive.mount('/content/drive')\n"
      ],
      "execution_count": 3,
      "outputs": [
        {
          "output_type": "stream",
          "text": [
            "Go to this URL in a browser: https://accounts.google.com/o/oauth2/auth?client_id=947318989803-6bn6qk8qdgf4n4g3pfee6491hc0brc4i.apps.googleusercontent.com&redirect_uri=urn%3aietf%3awg%3aoauth%3a2.0%3aoob&response_type=code&scope=email%20https%3a%2f%2fwww.googleapis.com%2fauth%2fdocs.test%20https%3a%2f%2fwww.googleapis.com%2fauth%2fdrive%20https%3a%2f%2fwww.googleapis.com%2fauth%2fdrive.photos.readonly%20https%3a%2f%2fwww.googleapis.com%2fauth%2fpeopleapi.readonly\n",
            "\n",
            "Enter your authorization code:\n",
            "··········\n",
            "Mounted at /content/drive\n"
          ],
          "name": "stdout"
        }
      ]
    },
    {
      "cell_type": "markdown",
      "metadata": {
        "id": "j4bnTMcRV31V",
        "colab_type": "text"
      },
      "source": [
        "**1. Data loading and data preprocessing**\n",
        "\n",
        "This data set contains five data batches for training, one data set for testing and one meta file contains label names. \n",
        "\n",
        "**unpicke:**\n",
        "Each of the files is a Python \"pickled\" object produced with cPickle. Here is a routine which will open such a file and return a dictionary Please be noted, encoding should be 'latin1'."
      ]
    },
    {
      "cell_type": "code",
      "metadata": {
        "id": "Q9kXvGLeV1fY",
        "colab_type": "code",
        "colab": {}
      },
      "source": [
        "def unpickle(file):\n",
        "    import pickle\n",
        "    with open(file, 'rb') as fo:\n",
        "        dict = pickle.load(fo, encoding='latin1')\n",
        "    return dict\n"
      ],
      "execution_count": 0,
      "outputs": []
    },
    {
      "cell_type": "markdown",
      "metadata": {
        "id": "RFXN3wbzWiPD",
        "colab_type": "text"
      },
      "source": [
        "**normalize:**\n",
        "Normalize the input image data which is in the format of numpy array"
      ]
    },
    {
      "cell_type": "code",
      "metadata": {
        "id": "Ar8bavN5TJje",
        "colab_type": "code",
        "colab": {}
      },
      "source": [
        "def normalize(val):\n",
        "  min_val = np.min(val)\n",
        "  max_val = np.max(val)\n",
        "  val = (val - min_val) /(max_val - min_val)\n",
        "  return val"
      ],
      "execution_count": 0,
      "outputs": []
    },
    {
      "cell_type": "markdown",
      "metadata": {
        "id": "1pbec2_MXP2D",
        "colab_type": "text"
      },
      "source": [
        "**load cfar10:**\n",
        "Each of the batch files contains a dictionary with the following elements:\n",
        "\n",
        "\"data\" -- a 10000x3072 numpy array of uint8s. Each row of the array stores a 32x32 colour image. The first 1024 entries contain the red channel values, the next 1024 is the green, and the final 1024 is the blue.\n",
        "\n",
        "\"labels\" -- a list of 10000 numbers in the range of 0-9. The number at index i indicates the label of the ith image in the array data.\n",
        "\n",
        "link: https://www.cs.toronto.edu/~kriz/cifar.html\n",
        "\n",
        "Convert the input tensor to be (width x height x num_channel)\n"
      ]
    },
    {
      "cell_type": "code",
      "metadata": {
        "id": "w9k3pOQdTPDY",
        "colab_type": "code",
        "colab": {}
      },
      "source": [
        "def load_batch(cifar10_dataset_path, batch_num):\n",
        "  import pickle\n",
        "  with open(cifar10_dataset_path + '/data_batch_' + str(batch_num), mode='rb') as file:\n",
        "      batch = pickle.load(file, encoding = 'latin1')\n",
        "      print('load batch' + str(batch_num))\n",
        "  features = batch['data'].reshape(len(batch['data']), 3, 32, 32).transpose(0, 2, 3, 1)\n",
        "  labels = batch['labels']\n",
        "  return features, labels"
      ],
      "execution_count": 0,
      "outputs": []
    },
    {
      "cell_type": "markdown",
      "metadata": {
        "id": "Bw2UBXmrspCL",
        "colab_type": "text"
      },
      "source": [
        "Loading data (metaDict, testDict, trainingSet).\n",
        "\n",
        "For categorical columns, do one-hot encoding."
      ]
    },
    {
      "cell_type": "code",
      "metadata": {
        "id": "MSOGDJ2lTf7X",
        "colab_type": "code",
        "outputId": "580957dd-6175-4c51-ce17-d889e1dc560b",
        "colab": {
          "base_uri": "https://localhost:8080/",
          "height": 98
        }
      },
      "source": [
        "cifar10_dir = '/content/drive/My Drive/Colab Notebooks/cifar-10-batches-py'\n",
        "metaDict = unpickle('/content/drive/My Drive/Colab Notebooks/cifar-10-batches-py/batches.meta')\n",
        "# meta file\n",
        "label_names = metaDict['label_names']\n",
        "\n",
        "# testing set\n",
        "testDict = unpickle('/content/drive/My Drive/Colab Notebooks/cifar-10-batches-py/test_batch')\n",
        "x_test = testDict['data'].reshape(len(testDict['data']),3, 32, 32).transpose(0, 2, 3, 1)\n",
        "y_test = testDict['labels']\n",
        "x_test = normalize(x_test)\n",
        "y_test = to_categorical(y_test)\n",
        "\n",
        "# training set\n",
        "# x_trainging is feature, y_training is label from load_batch function\n",
        "x_trainingList = list()\n",
        "y_trainingList = list()\n",
        "for i in range(1, 6):\n",
        "  x_training = []\n",
        "  y_training = []\n",
        "  (x_training, y_training) = load_batch(cifar10_dir, i)\n",
        "  x_training = normalize(x_training)\n",
        "  y_training = to_categorical(y_training)\n",
        "  x_trainingList.append(x_training)\n",
        "  y_trainingList.append(y_training)"
      ],
      "execution_count": 7,
      "outputs": [
        {
          "output_type": "stream",
          "text": [
            "load batch1\n",
            "load batch2\n",
            "load batch3\n",
            "load batch4\n",
            "load batch5\n"
          ],
          "name": "stdout"
        }
      ]
    },
    {
      "cell_type": "markdown",
      "metadata": {
        "id": "ME0RLKIcRg2J",
        "colab_type": "text"
      },
      "source": [
        "The training and testing data look like this."
      ]
    },
    {
      "cell_type": "code",
      "metadata": {
        "id": "kjS7i9EgRqjR",
        "colab_type": "code",
        "outputId": "99130e07-9d7d-4612-cac8-605d57afc414",
        "colab": {
          "base_uri": "https://localhost:8080/",
          "height": 862
        }
      },
      "source": [
        "print('Trainig features are:\\n', x_trainingList[1][0])\n",
        "print('Training labels are:\\n', y_trainingList[1][0])"
      ],
      "execution_count": 8,
      "outputs": [
        {
          "output_type": "stream",
          "text": [
            "Trainig features are:\n",
            " [[[0.1372549  0.09803922 0.10196078]\n",
            "  [0.10588235 0.08235294 0.08235294]\n",
            "  [0.09803922 0.07843137 0.0745098 ]\n",
            "  ...\n",
            "  [0.51764706 0.50588235 0.50588235]\n",
            "  [0.52156863 0.4745098  0.45490196]\n",
            "  [0.49411765 0.45098039 0.44313725]]\n",
            "\n",
            " [[0.24705882 0.21568627 0.19607843]\n",
            "  [0.1254902  0.10588235 0.08235294]\n",
            "  [0.06666667 0.05098039 0.03137255]\n",
            "  ...\n",
            "  [0.4        0.37254902 0.34509804]\n",
            "  [0.41176471 0.34901961 0.29803922]\n",
            "  [0.39215686 0.3372549  0.30196078]]\n",
            "\n",
            " [[0.38823529 0.35686275 0.32941176]\n",
            "  [0.19215686 0.17647059 0.14509804]\n",
            "  [0.05882353 0.04705882 0.01960784]\n",
            "  ...\n",
            "  [0.18039216 0.16862745 0.15294118]\n",
            "  [0.20392157 0.16078431 0.13333333]\n",
            "  [0.20392157 0.17254902 0.16078431]]\n",
            "\n",
            " ...\n",
            "\n",
            " [[0.65098039 0.64705882 0.67058824]\n",
            "  [0.64313725 0.63921569 0.65098039]\n",
            "  [0.64313725 0.64313725 0.64705882]\n",
            "  ...\n",
            "  [0.67843137 0.6745098  0.66666667]\n",
            "  [0.66666667 0.66666667 0.65882353]\n",
            "  [0.65490196 0.65490196 0.65490196]]\n",
            "\n",
            " [[0.6627451  0.65882353 0.69019608]\n",
            "  [0.6627451  0.65882353 0.67843137]\n",
            "  [0.65882353 0.65882353 0.67058824]\n",
            "  ...\n",
            "  [0.6745098  0.67058824 0.66666667]\n",
            "  [0.65882353 0.65490196 0.65490196]\n",
            "  [0.64705882 0.64705882 0.65098039]]\n",
            "\n",
            " [[0.67843137 0.6745098  0.70196078]\n",
            "  [0.68627451 0.68235294 0.69803922]\n",
            "  [0.67843137 0.67843137 0.68627451]\n",
            "  ...\n",
            "  [0.66666667 0.65882353 0.6627451 ]\n",
            "  [0.65882353 0.65490196 0.65882353]\n",
            "  [0.65098039 0.65098039 0.65882353]]]\n",
            "Training labels are:\n",
            " [0. 1. 0. 0. 0. 0. 0. 0. 0. 0.]\n"
          ],
          "name": "stdout"
        }
      ]
    },
    {
      "cell_type": "markdown",
      "metadata": {
        "id": "uzvEJdDYRpVy",
        "colab_type": "text"
      },
      "source": [
        "**2. Model training: an image classification problem**\n",
        "\n",
        "1.Create the model architecture.\n",
        "\n",
        "We use the Sequential model to create a CNN model repeating a few layers of a convolution layer followed by a pooling layer then a dropout layer.\n"
      ]
    },
    {
      "cell_type": "code",
      "metadata": {
        "id": "DYC1ZbVpTj6m",
        "colab_type": "code",
        "colab": {
          "base_uri": "https://localhost:8080/",
          "height": 248
        },
        "outputId": "c2149438-8855-4096-f2d2-68dec9ddd665"
      },
      "source": [
        "classes_num = 10\n",
        "input_shape = (32, 32, 3)\n",
        "weight_decay =  0.0005\n",
        "\n",
        "model = Sequential()\n",
        "\n",
        "# first CONV => RELU => CONV => RELU => POOL layer => dropout\n",
        "model.add(Conv2D(32, (3, 3), padding = 'same',  kernel_regularizer=l2(weight_decay), input_shape = input_shape)) \n",
        "model.add(Activation('relu'))\n",
        "model.add(Conv2D(32, (3, 3), padding = 'same', kernel_regularizer=l2(weight_decay)))\n",
        "model.add(Activation('relu'))\n",
        "model.add(MaxPooling2D(pool_size = (2,2)))\n",
        "model.add(Dropout(0.25))\n",
        "\n",
        "# second CONV => RELU => CONV => RELU => POOL layer set => dropout\n",
        "model.add(Conv2D(64, (3, 3), padding = 'same', kernel_regularizer=l2(weight_decay)))\n",
        "model.add(Activation('relu'))\n",
        "model.add(Conv2D(64, (5, 5), padding = 'same', kernel_regularizer=l2(weight_decay)))\n",
        "model.add(Activation('relu'))\n",
        "model.add(MaxPooling2D(pool_size = (2,2)))\n",
        "model.add(Dropout(0.25))  \n",
        "\n",
        "# third CONV => RELU => CONV => RELU => POOL layer set => dropout\n",
        "model.add(Conv2D(128, (3, 3), padding = 'same', kernel_regularizer=l2(weight_decay)))\n",
        "model.add(Activation('relu'))\n",
        "model.add(Conv2D(128, (5, 5), padding = 'same', kernel_regularizer=l2(weight_decay)))\n",
        "model.add(Activation('relu'))\n",
        "model.add(MaxPooling2D(pool_size = (2,2)))\n",
        "model.add(Dropout(0.25))  \n",
        "\n",
        "\n",
        "# set of FC => RELU layers\n",
        "model.add(Flatten())\n",
        "model.add(Dense(512))\n",
        "model.add(Activation('relu'))\n",
        "model.add(Dropout(0.4))\n",
        "\n",
        "# softmax classifier\n",
        "model.add(Dense(classes_num))\n",
        "model.add(Activation('softmax'))\n",
        "\n"
      ],
      "execution_count": 9,
      "outputs": [
        {
          "output_type": "stream",
          "text": [
            "WARNING:tensorflow:From /usr/local/lib/python3.6/dist-packages/keras/backend/tensorflow_backend.py:74: The name tf.get_default_graph is deprecated. Please use tf.compat.v1.get_default_graph instead.\n",
            "\n",
            "WARNING:tensorflow:From /usr/local/lib/python3.6/dist-packages/keras/backend/tensorflow_backend.py:517: The name tf.placeholder is deprecated. Please use tf.compat.v1.placeholder instead.\n",
            "\n",
            "WARNING:tensorflow:From /usr/local/lib/python3.6/dist-packages/keras/backend/tensorflow_backend.py:4138: The name tf.random_uniform is deprecated. Please use tf.random.uniform instead.\n",
            "\n",
            "WARNING:tensorflow:From /usr/local/lib/python3.6/dist-packages/keras/backend/tensorflow_backend.py:3976: The name tf.nn.max_pool is deprecated. Please use tf.nn.max_pool2d instead.\n",
            "\n",
            "WARNING:tensorflow:From /usr/local/lib/python3.6/dist-packages/keras/backend/tensorflow_backend.py:133: The name tf.placeholder_with_default is deprecated. Please use tf.compat.v1.placeholder_with_default instead.\n",
            "\n",
            "WARNING:tensorflow:From /usr/local/lib/python3.6/dist-packages/keras/backend/tensorflow_backend.py:3445: calling dropout (from tensorflow.python.ops.nn_ops) with keep_prob is deprecated and will be removed in a future version.\n",
            "Instructions for updating:\n",
            "Please use `rate` instead of `keep_prob`. Rate should be set to `rate = 1 - keep_prob`.\n"
          ],
          "name": "stdout"
        }
      ]
    },
    {
      "cell_type": "markdown",
      "metadata": {
        "id": "wh97a8ViU7JJ",
        "colab_type": "text"
      },
      "source": [
        "2.Compile the model\n",
        "\n",
        "We use model.compile() to configure the learning process. This is to define the type of loss function, optimizer and the metrics."
      ]
    },
    {
      "cell_type": "code",
      "metadata": {
        "id": "3k35rPfcVHIa",
        "colab_type": "code",
        "outputId": "20568b79-6bb4-4668-ad1b-ff26fc4a4194",
        "colab": {
          "base_uri": "https://localhost:8080/",
          "height": 992
        }
      },
      "source": [
        "opt = keras.optimizers.RMSprop(lr=0.0001, decay=1e-6)\n",
        "model.compile(loss='categorical_crossentropy',\n",
        "             optimizer='adam',\n",
        "             metrics=['accuracy'])\n",
        "print(model.summary())"
      ],
      "execution_count": 10,
      "outputs": [
        {
          "output_type": "stream",
          "text": [
            "WARNING:tensorflow:From /usr/local/lib/python3.6/dist-packages/keras/optimizers.py:790: The name tf.train.Optimizer is deprecated. Please use tf.compat.v1.train.Optimizer instead.\n",
            "\n",
            "WARNING:tensorflow:From /usr/local/lib/python3.6/dist-packages/keras/backend/tensorflow_backend.py:3295: The name tf.log is deprecated. Please use tf.math.log instead.\n",
            "\n",
            "_________________________________________________________________\n",
            "Layer (type)                 Output Shape              Param #   \n",
            "=================================================================\n",
            "conv2d_1 (Conv2D)            (None, 32, 32, 32)        896       \n",
            "_________________________________________________________________\n",
            "activation_1 (Activation)    (None, 32, 32, 32)        0         \n",
            "_________________________________________________________________\n",
            "conv2d_2 (Conv2D)            (None, 32, 32, 32)        9248      \n",
            "_________________________________________________________________\n",
            "activation_2 (Activation)    (None, 32, 32, 32)        0         \n",
            "_________________________________________________________________\n",
            "max_pooling2d_1 (MaxPooling2 (None, 16, 16, 32)        0         \n",
            "_________________________________________________________________\n",
            "dropout_1 (Dropout)          (None, 16, 16, 32)        0         \n",
            "_________________________________________________________________\n",
            "conv2d_3 (Conv2D)            (None, 16, 16, 64)        18496     \n",
            "_________________________________________________________________\n",
            "activation_3 (Activation)    (None, 16, 16, 64)        0         \n",
            "_________________________________________________________________\n",
            "conv2d_4 (Conv2D)            (None, 16, 16, 64)        102464    \n",
            "_________________________________________________________________\n",
            "activation_4 (Activation)    (None, 16, 16, 64)        0         \n",
            "_________________________________________________________________\n",
            "max_pooling2d_2 (MaxPooling2 (None, 8, 8, 64)          0         \n",
            "_________________________________________________________________\n",
            "dropout_2 (Dropout)          (None, 8, 8, 64)          0         \n",
            "_________________________________________________________________\n",
            "conv2d_5 (Conv2D)            (None, 8, 8, 128)         73856     \n",
            "_________________________________________________________________\n",
            "activation_5 (Activation)    (None, 8, 8, 128)         0         \n",
            "_________________________________________________________________\n",
            "conv2d_6 (Conv2D)            (None, 8, 8, 128)         409728    \n",
            "_________________________________________________________________\n",
            "activation_6 (Activation)    (None, 8, 8, 128)         0         \n",
            "_________________________________________________________________\n",
            "max_pooling2d_3 (MaxPooling2 (None, 4, 4, 128)         0         \n",
            "_________________________________________________________________\n",
            "dropout_3 (Dropout)          (None, 4, 4, 128)         0         \n",
            "_________________________________________________________________\n",
            "flatten_1 (Flatten)          (None, 2048)              0         \n",
            "_________________________________________________________________\n",
            "dense_1 (Dense)              (None, 512)               1049088   \n",
            "_________________________________________________________________\n",
            "activation_7 (Activation)    (None, 512)               0         \n",
            "_________________________________________________________________\n",
            "dropout_4 (Dropout)          (None, 512)               0         \n",
            "_________________________________________________________________\n",
            "dense_2 (Dense)              (None, 10)                5130      \n",
            "_________________________________________________________________\n",
            "activation_8 (Activation)    (None, 10)                0         \n",
            "=================================================================\n",
            "Total params: 1,668,906\n",
            "Trainable params: 1,668,906\n",
            "Non-trainable params: 0\n",
            "_________________________________________________________________\n",
            "None\n"
          ],
          "name": "stdout"
        }
      ]
    },
    {
      "cell_type": "markdown",
      "metadata": {
        "id": "8MXFlbLsVYTk",
        "colab_type": "text"
      },
      "source": [
        "3.Train the model\n",
        "\n",
        "We will train the model with a batch_size of 32, 25 epochs."
      ]
    },
    {
      "cell_type": "code",
      "metadata": {
        "id": "Zsid17LmgjWO",
        "colab_type": "code",
        "outputId": "f63b4ec2-42f4-4386-c836-deaf3458857b",
        "colab": {
          "base_uri": "https://localhost:8080/",
          "height": 488
        }
      },
      "source": [
        "batch_size = 64\n",
        "epochs = 35\n",
        "valBatch = 0\n",
        "\n",
        "from livelossplot.keras import PlotLossesCallback\n",
        "\n",
        "for i in range(1, 5):\n",
        "\t\thistory = model.fit(x_trainingList[i], y_trainingList[i],\n",
        "\t\t\t\t\t\tbatch_size = batch_size,\n",
        "\t\t\t\t\t\tepochs= epochs,\n",
        "\t\t\t\t\t\tvalidation_data=(x_trainingList[valBatch], y_trainingList[valBatch]),\n",
        "\t\t\t\t\t\tcallbacks=[PlotLossesCallback()],\n",
        "\t\t\t\t\t\tverbose=2,\n",
        "\t\t\t\t\t\tshuffle = True)\n",
        "model.save('my_model1.h5', overwrite=True)\n",
        "print(\"Saved model to disk for batch:\" + str(i))\n",
        "model = load_model('my_model1.h5')\n",
        "print(model.evaluate(x = x_test, y = y_test))"
      ],
      "execution_count": 12,
      "outputs": [
        {
          "output_type": "display_data",
          "data": {
            "image/png": "[encoded data removed]",
            "text/plain": [
              "<Figure size 864x576 with 2 Axes>"
            ]
          },
          "metadata": {
            "tags": []
          }
        },
        {
          "output_type": "stream",
          "text": [
            "Log-loss (cost function):\n",
            "training   (min:    0.497, max:    1.124, cur:    0.518)\n",
            "validation (min:    0.829, max:    0.985, cur:    0.977)\n",
            "\n",
            "Accuracy:\n",
            "training   (min:    0.693, max:    0.897, cur:    0.893)\n",
            "validation (min:    0.738, max:    0.783, cur:    0.764)\n",
            "Saved model to disk for batch:4\n",
            "10000/10000 [==============================] - 1s 148us/step\n",
            "[1.0205413023948668, 0.7638]\n"
          ],
          "name": "stdout"
        }
      ]
    },
    {
      "cell_type": "markdown",
      "metadata": {
        "id": "Z50LjOy282e-",
        "colab_type": "text"
      },
      "source": [
        "Results:\n",
        "Validation dataset: log-loss is 0.9522, accuracy is 0.7875\n",
        "\n",
        "testing dataset: log-loss is 0.980, accuracy is 0.7838\n"
      ]
    },
    {
      "cell_type": "markdown",
      "metadata": {
        "id": "WYRT2V7gVrl9",
        "colab_type": "text"
      },
      "source": [
        "4.Test Accuracy\n",
        "\n",
        "We use the model to classify the test set.\n",
        "We create a confusion matrix and a classification report."
      ]
    },
    {
      "cell_type": "code",
      "metadata": {
        "id": "DSGl68XzTXHU",
        "colab_type": "code",
        "colab": {}
      },
      "source": [
        "def get_class_from_softmax(list):\n",
        "  max_value = 0.0\n",
        "  max_index = 0\n",
        "  for i in range(len(list)):\n",
        "    if list[i] > max_value:\n",
        "      max_value = list[i]\n",
        "      max_index = i\n",
        "  return max_index"
      ],
      "execution_count": 0,
      "outputs": []
    },
    {
      "cell_type": "code",
      "metadata": {
        "id": "_HPcBFtJX9of",
        "colab_type": "code",
        "outputId": "af8f6d79-ee6b-44ae-ba1e-6ddc217536c3",
        "colab": {
          "base_uri": "https://localhost:8080/",
          "height": 537
        }
      },
      "source": [
        "from sklearn.metrics import classification_report, confusion_matrix\n",
        "import pandas as pd\n",
        "\n",
        "#y_pred is the prediction\n",
        "y_pred_label = list()\n",
        "y_label = list()\n",
        "y_label_class = list()\n",
        "y_pred_class = list()\n",
        "y_pred = model.predict(x_test)\n",
        "\n",
        "for i in range(len(y_pred)):\n",
        "  y_label.append(label_names[get_class_from_softmax(y_test[i])])\n",
        "  y_pred_label.append(label_names[get_class_from_softmax(y_pred[i])])\n",
        "  y_pred_class.append(get_class_from_softmax(y_pred[i]))\n",
        "  y_label_class.append(get_class_from_softmax(y_test[i]))\n",
        "\n",
        "print('Confusion Matrix')\n",
        "confusion_matrix = confusion_matrix(y_label, y_pred_label, labels = label_names)\n",
        "print(pd.DataFrame(confusion_matrix, index=label_names, columns=label_names))\n",
        "print('Classification Report')\n",
        "print(classification_report(y_label_class, y_pred_class, target_names= label_names))"
      ],
      "execution_count": 14,
      "outputs": [
        {
          "output_type": "stream",
          "text": [
            "Confusion Matrix\n",
            "            airplane  automobile  bird  cat  ...  frog  horse  ship  truck\n",
            "airplane         804          21    34   16  ...    15     21    30     38\n",
            "automobile         9         870     3    4  ...    18      2    10     81\n",
            "bird              72           2   559   33  ...   137     31     2      9\n",
            "cat               15           6    44  568  ...   131     43     2     18\n",
            "deer              11           0    27   49  ...    85     57     2      7\n",
            "dog                6           3    26  140  ...    60     65     1      2\n",
            "frog               3           2    11   25  ...   920      4     3      1\n",
            "horse              9           3    16   32  ...    21    846     0      9\n",
            "ship              73          32     9   10  ...    23      7   807     32\n",
            "truck             20          52     4    6  ...    16      8     9    878\n",
            "\n",
            "[10 rows x 10 columns]\n",
            "Classification Report\n",
            "              precision    recall  f1-score   support\n",
            "\n",
            "    airplane       0.79      0.80      0.80      1000\n",
            "  automobile       0.88      0.87      0.87      1000\n",
            "        bird       0.76      0.56      0.65      1000\n",
            "         cat       0.64      0.57      0.60      1000\n",
            "        deer       0.73      0.74      0.73      1000\n",
            "         dog       0.71      0.65      0.68      1000\n",
            "        frog       0.65      0.92      0.76      1000\n",
            "       horse       0.78      0.85      0.81      1000\n",
            "        ship       0.93      0.81      0.86      1000\n",
            "       truck       0.82      0.88      0.85      1000\n",
            "\n",
            "    accuracy                           0.76     10000\n",
            "   macro avg       0.77      0.76      0.76     10000\n",
            "weighted avg       0.77      0.76      0.76     10000\n",
            "\n"
          ],
          "name": "stdout"
        }
      ]
    },
    {
      "cell_type": "code",
      "metadata": {
        "id": "qB7wCUVBjaSc",
        "colab_type": "code",
        "colab": {}
      },
      "source": [
        ""
      ],
      "execution_count": 0,
      "outputs": []
    }
  ]
}